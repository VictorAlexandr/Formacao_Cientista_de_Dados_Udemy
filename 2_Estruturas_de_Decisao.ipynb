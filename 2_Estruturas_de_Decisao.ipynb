{
  "cells": [
    {
      "cell_type": "markdown",
      "metadata": {
        "id": "view-in-github",
        "colab_type": "text"
      },
      "source": [
        "<a href=\"https://colab.research.google.com/github/VictorAlexandr/Formacao_Cientista_de_Dados_Udemy/blob/main/2_Estruturas_de_Decisao.ipynb\" target=\"_parent\"><img src=\"https://colab.research.google.com/assets/colab-badge.svg\" alt=\"Open In Colab\"/></a>"
      ]
    },
    {
      "cell_type": "markdown",
      "metadata": {
        "id": "1CaN9360yo5P"
      },
      "source": [
        "# Formação Cientista de Dados - Prof. Fernando Amaral\n",
        "Estruturas de Decisão"
      ]
    },
    {
      "cell_type": "code",
      "execution_count": 1,
      "metadata": {
        "id": "Ff3-23Bnyo5R",
        "outputId": "aeee32cc-75c3-4aa4-d48b-b93d6368eecf",
        "colab": {
          "base_uri": "https://localhost:8080/"
        }
      },
      "outputs": [
        {
          "output_type": "stream",
          "name": "stdout",
          "text": [
            "Aprovado\n",
            "Parabéns!\n"
          ]
        }
      ],
      "source": [
        "nota = 7\n",
        "if nota >= 7:\n",
        "\tprint(\"Aprovado\")\n",
        "\tprint(\"Parabéns!\")\n",
        "else:\n",
        "\tprint(\"Reprovado\")"
      ]
    },
    {
      "cell_type": "code",
      "execution_count": 2,
      "metadata": {
        "id": "Fre1wyL-yo5S",
        "outputId": "7f398f1a-76bc-4cde-b2b8-be52d330e7d6",
        "colab": {
          "base_uri": "https://localhost:8080/"
        }
      },
      "outputs": [
        {
          "output_type": "stream",
          "name": "stdout",
          "text": [
            "Reprovado\n"
          ]
        }
      ],
      "source": [
        "#só mudar o valor da variável\n",
        "nota = 5\n",
        "if nota >= 7:\n",
        "\tprint(\"Aprovado\")\n",
        "else:\n",
        "\tprint(\"Reprovado\")"
      ]
    },
    {
      "cell_type": "code",
      "execution_count": 3,
      "metadata": {
        "id": "gDgFLD4Yyo5S",
        "outputId": "88b25ce0-cfc3-42d8-edfd-212b139180e2",
        "colab": {
          "base_uri": "https://localhost:8080/"
        }
      },
      "outputs": [
        {
          "output_type": "stream",
          "name": "stdout",
          "text": [
            "Aprovado\n"
          ]
        }
      ],
      "source": [
        "#Testar com 4,5 e 7\n",
        "nota = 7\n",
        "if nota <= 4:\n",
        "\tprint(\"Reprovado\")\n",
        "elif nota > 4 and nota <=6:\n",
        "\tprint(\"Exame\")\n",
        "else:\n",
        "\tprint(\"Aprovado\")\n"
      ]
    },
    {
      "cell_type": "code",
      "execution_count": 3,
      "metadata": {
        "id": "HyJGy3HAyo5S"
      },
      "outputs": [],
      "source": []
    }
  ],
  "metadata": {
    "kernelspec": {
      "display_name": "Python 3",
      "language": "python",
      "name": "python3"
    },
    "language_info": {
      "codemirror_mode": {
        "name": "ipython",
        "version": 3
      },
      "file_extension": ".py",
      "mimetype": "text/x-python",
      "name": "python",
      "nbconvert_exporter": "python",
      "pygments_lexer": "ipython3",
      "version": "3.7.6"
    },
    "colab": {
      "provenance": [],
      "include_colab_link": true
    }
  },
  "nbformat": 4,
  "nbformat_minor": 0
}