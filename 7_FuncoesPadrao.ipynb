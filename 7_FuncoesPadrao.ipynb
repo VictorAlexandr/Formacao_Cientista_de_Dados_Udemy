{
  "cells": [
    {
      "cell_type": "markdown",
      "metadata": {
        "id": "view-in-github",
        "colab_type": "text"
      },
      "source": [
        "<a href=\"https://colab.research.google.com/github/VictorAlexandr/Formacao_Cientista_de_Dados_Udemy/blob/main/7_FuncoesPadrao.ipynb\" target=\"_parent\"><img src=\"https://colab.research.google.com/assets/colab-badge.svg\" alt=\"Open In Colab\"/></a>"
      ]
    },
    {
      "cell_type": "markdown",
      "metadata": {
        "id": "2PRQ1Ks4RpRq"
      },
      "source": [
        "# Formação Cientista de Dados - Prof. Fernando Amaral\n",
        "Funções Padrão"
      ]
    },
    {
      "cell_type": "code",
      "execution_count": 1,
      "metadata": {
        "id": "uCfOYZGoRpRt",
        "outputId": "d807a99f-6ae7-48f9-9c64-e04ac40b8662",
        "colab": {
          "base_uri": "https://localhost:8080/"
        }
      },
      "outputs": [
        {
          "output_type": "stream",
          "name": "stdout",
          "text": [
            "200\n",
            "Maior valor:  45\n",
            "Menor valor:  1\n",
            "Soma:  108\n",
            "Arredondamento:  2.35\n"
          ]
        }
      ],
      "source": [
        "#funções internas\n",
        "print(abs(-200))\n",
        "lst = [1,2,30,30,45]\n",
        "print(\"Maior valor: \", max(lst))\n",
        "print(\"Menor valor: \", min(lst))\n",
        "print(\"Soma: \", sum(lst))\n",
        "print(\"Arredondamento: \", round(2.34567,2))"
      ]
    },
    {
      "cell_type": "code",
      "execution_count": 2,
      "metadata": {
        "id": "-6MslNbsRpRu",
        "outputId": "6bb201fd-a150-4503-a301-b68db0cb444a",
        "colab": {
          "base_uri": "https://localhost:8080/"
        }
      },
      "outputs": [
        {
          "output_type": "stream",
          "name": "stdout",
          "text": [
            "Média:  21.6\n",
            "Mediana:  30\n",
            "Moda:  30\n"
          ]
        }
      ],
      "source": [
        "#statistica\n",
        "from statistics import *\n",
        "print(\"Média: \", mean(lst))\n",
        "print(\"Mediana: \", median(lst))\n",
        "print(\"Moda: \", mode(lst))"
      ]
    },
    {
      "cell_type": "code",
      "execution_count": 3,
      "metadata": {
        "id": "CdQ9_B-kRpRv",
        "outputId": "da4e66db-a488-4227-9083-85fd8062ce44",
        "colab": {
          "base_uri": "https://localhost:8080/"
        }
      },
      "outputs": [
        {
          "output_type": "stream",
          "name": "stdout",
          "text": [
            "Desvio padrão:  19.346834366376324\n"
          ]
        }
      ],
      "source": [
        "#desvio padrão da amostra\n",
        "print(\"Desvio padrão: \", stdev(lst))"
      ]
    },
    {
      "cell_type": "code",
      "execution_count": 4,
      "metadata": {
        "id": "j8s8drdtRpRv",
        "outputId": "6a9be485-8f66-43c9-ce2a-55b02ca0adea",
        "colab": {
          "base_uri": "https://localhost:8080/"
        }
      },
      "outputs": [
        {
          "output_type": "stream",
          "name": "stdout",
          "text": [
            "Variância:  374.3\n"
          ]
        }
      ],
      "source": [
        "#variancia da amostra\n",
        "print(\"Variância: \", variance(lst))"
      ]
    },
    {
      "cell_type": "code",
      "execution_count": 5,
      "metadata": {
        "id": "lk6RUyHfRpRv",
        "outputId": "6323a254-8a6c-4917-fdd8-4200f6e0df0d",
        "colab": {
          "base_uri": "https://localhost:8080/"
        }
      },
      "outputs": [
        {
          "output_type": "stream",
          "name": "stdout",
          "text": [
            "<class 'numpy.ndarray'>\n",
            "[[0.95207786 0.64609296 0.79241057 0.16851397 0.35232075 0.58264792\n",
            "  0.09889785 0.14146994]\n",
            " [0.42445055 0.22513312 0.9670005  0.0201504  0.04286515 0.21495638\n",
            "  0.33244852 0.97448075]\n",
            " [0.31859067 0.06617137 0.42256939 0.24029318 0.41950382 0.93072578\n",
            "  0.97414584 0.22011429]\n",
            " [0.08932708 0.20658557 0.13804377 0.15353605 0.37407377 0.88649548\n",
            "  0.11360597 0.35849496]\n",
            " [0.21651987 0.54642251 0.047286   0.46606764 0.26850535 0.31928519\n",
            "  0.8237936  0.75844098]\n",
            " [0.37387083 0.61308808 0.66672443 0.50536568 0.17824561 0.21863007\n",
            "  0.54582869 0.79486641]\n",
            " [0.21076903 0.42538462 0.08570052 0.7175772  0.59960976 0.21348759\n",
            "  0.90782756 0.45583483]\n",
            " [0.0144277  0.58335135 0.55168697 0.94561964 0.03318704 0.02642323\n",
            "  0.71764779 0.4390472 ]]\n"
          ]
        }
      ],
      "source": [
        "from numpy import *\n",
        "a = random.random((8,8))\n",
        "print(type(a))\n",
        "print(a)"
      ]
    },
    {
      "cell_type": "code",
      "execution_count": null,
      "metadata": {
        "id": "lDSBoawhRpRv"
      },
      "outputs": [],
      "source": []
    }
  ],
  "metadata": {
    "kernelspec": {
      "display_name": "Python 3",
      "language": "python",
      "name": "python3"
    },
    "language_info": {
      "codemirror_mode": {
        "name": "ipython",
        "version": 3
      },
      "file_extension": ".py",
      "mimetype": "text/x-python",
      "name": "python",
      "nbconvert_exporter": "python",
      "pygments_lexer": "ipython3",
      "version": "3.7.6"
    },
    "colab": {
      "provenance": [],
      "include_colab_link": true
    }
  },
  "nbformat": 4,
  "nbformat_minor": 0
}