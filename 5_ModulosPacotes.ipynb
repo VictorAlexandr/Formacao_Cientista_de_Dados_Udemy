{
  "cells": [
    {
      "cell_type": "markdown",
      "metadata": {
        "id": "view-in-github",
        "colab_type": "text"
      },
      "source": [
        "<a href=\"https://colab.research.google.com/github/VictorAlexandr/Formacao_Cientista_de_Dados_Udemy/blob/main/5_ModulosPacotes.ipynb\" target=\"_parent\"><img src=\"https://colab.research.google.com/assets/colab-badge.svg\" alt=\"Open In Colab\"/></a>"
      ]
    },
    {
      "cell_type": "markdown",
      "source": [],
      "metadata": {
        "id": "E_orcx-kQwPM"
      }
    },
    {
      "cell_type": "markdown",
      "metadata": {
        "id": "JpjMyWGoQo46"
      },
      "source": [
        "# Formação Cientista de Dados - Prof. Fernando Amaral\n",
        "Módulos e Pacotes"
      ]
    },
    {
      "cell_type": "code",
      "execution_count": 1,
      "metadata": {
        "colab": {
          "base_uri": "https://localhost:8080/"
        },
        "id": "YyZSVVEIQo4-",
        "outputId": "a63a89a7-3255-4559-95a7-0137a23cf6d3"
      },
      "outputs": [
        {
          "output_type": "stream",
          "name": "stdout",
          "text": [
            "25\n",
            "25.0\n"
          ]
        }
      ],
      "source": [
        "import statistics\n",
        "z = [10,20,30,40]\n",
        "x = statistics.mean(z)\n",
        "y = statistics.median(z)\n",
        "print(x)\n",
        "print(y)"
      ]
    },
    {
      "cell_type": "code",
      "execution_count": 2,
      "metadata": {
        "colab": {
          "base_uri": "https://localhost:8080/"
        },
        "id": "jWsWzSxiQo5A",
        "outputId": "d1238a45-40e5-4abf-ffd3-fe501de3dff4"
      },
      "outputs": [
        {
          "output_type": "stream",
          "name": "stdout",
          "text": [
            "25\n",
            "25.0\n"
          ]
        }
      ],
      "source": [
        "import statistics  as est\n",
        "z = [10,20,30,40]\n",
        "x = est.mean(z)\n",
        "y = est.median(z)\n",
        "print(x)\n",
        "print(y)"
      ]
    },
    {
      "cell_type": "code",
      "execution_count": 3,
      "metadata": {
        "colab": {
          "base_uri": "https://localhost:8080/"
        },
        "id": "eNFMjF22Qo5A",
        "outputId": "d293d988-d493-4f2b-f1af-bb409729431d"
      },
      "outputs": [
        {
          "output_type": "stream",
          "name": "stdout",
          "text": [
            "25\n",
            "25.0\n"
          ]
        }
      ],
      "source": [
        "from statistics import mean, median\n",
        "z = [10,20,30,40]\n",
        "x = mean(z)\n",
        "y = median(z)\n",
        "print(x)\n",
        "print(y)"
      ]
    },
    {
      "cell_type": "code",
      "execution_count": 4,
      "metadata": {
        "colab": {
          "base_uri": "https://localhost:8080/"
        },
        "id": "Wr_MLUwDQo5B",
        "outputId": "b33818f2-7b30-430e-b1fa-56405aac0cfa"
      },
      "outputs": [
        {
          "output_type": "stream",
          "name": "stdout",
          "text": [
            "25\n",
            "25.0\n"
          ]
        }
      ],
      "source": [
        "from statistics import *\n",
        "z = [10,20,30,40]\n",
        "x = mean(z)\n",
        "y = median(z)\n",
        "print(x)\n",
        "print(y)"
      ]
    },
    {
      "cell_type": "code",
      "execution_count": null,
      "metadata": {
        "id": "H819jyXUQo5B"
      },
      "outputs": [],
      "source": []
    }
  ],
  "metadata": {
    "kernelspec": {
      "display_name": "Python 3",
      "language": "python",
      "name": "python3"
    },
    "language_info": {
      "codemirror_mode": {
        "name": "ipython",
        "version": 3
      },
      "file_extension": ".py",
      "mimetype": "text/x-python",
      "name": "python",
      "nbconvert_exporter": "python",
      "pygments_lexer": "ipython3",
      "version": "3.7.6"
    },
    "colab": {
      "provenance": [],
      "include_colab_link": true
    }
  },
  "nbformat": 4,
  "nbformat_minor": 0
}