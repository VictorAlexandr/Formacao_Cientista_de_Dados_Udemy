{
  "cells": [
    {
      "cell_type": "markdown",
      "metadata": {
        "id": "view-in-github",
        "colab_type": "text"
      },
      "source": [
        "<a href=\"https://colab.research.google.com/github/VictorAlexandr/Formacao_Cientista_de_Dados_Udemy/blob/main/8_Facavcmesmo.ipynb\" target=\"_parent\"><img src=\"https://colab.research.google.com/assets/colab-badge.svg\" alt=\"Open In Colab\"/></a>"
      ]
    },
    {
      "cell_type": "markdown",
      "metadata": {
        "id": "qZJ2W_q_R3F3"
      },
      "source": [
        "# Formação Cientista de Dados - Prof. Fernando Amaral\n",
        "Faça você mesmo"
      ]
    },
    {
      "cell_type": "code",
      "execution_count": 1,
      "metadata": {
        "colab": {
          "base_uri": "https://localhost:8080/"
        },
        "id": "KHyhdDuoR3F5",
        "outputId": "e08d4693-becf-4574-e272-2e424053c234"
      },
      "outputs": [
        {
          "output_type": "stream",
          "name": "stdout",
          "text": [
            "Amplitude: 98\n"
          ]
        }
      ],
      "source": [
        "#1. Faça um programa que tenha uma função chamada amplitude. A função deve receber uma lista e imprimir a amplitude.\n",
        "#Crie também um código para testar sua função\n",
        "def amplitude(vet):\n",
        "    print(\"Amplitude:\", max(vet) - min(vet))\n",
        "\n",
        "vetor = [12,23,45,2,100]\n",
        "amplitude(vetor)"
      ]
    },
    {
      "cell_type": "code",
      "execution_count": 2,
      "metadata": {
        "colab": {
          "base_uri": "https://localhost:8080/"
        },
        "id": "rVn_7yKzR3F7",
        "outputId": "b210527c-c343-44e5-bb07-418e70bc19a0"
      },
      "outputs": [
        {
          "output_type": "stream",
          "name": "stdout",
          "text": [
            "C\n",
            "i\n",
            "e\n",
            "n\n",
            "t\n",
            "i\n",
            "s\n",
            "t\n",
            "a\n"
          ]
        }
      ],
      "source": [
        "#2. Faça uma função que receba uma string e imprima esta string na forma vertical\n",
        "def imprime(texto):\n",
        "    for n in range(0, len(texto)):\n",
        "        print(texto[n])\n",
        "\n",
        "imprime(\"Cientista\")\n"
      ]
    },
    {
      "cell_type": "code",
      "execution_count": 3,
      "metadata": {
        "colab": {
          "base_uri": "https://localhost:8080/"
        },
        "id": "CByj3lPiR3F7",
        "outputId": "160ab67f-7531-4c6f-8ce8-6820e738d828"
      },
      "outputs": [
        {
          "output_type": "stream",
          "name": "stdout",
          "text": [
            "Valor da carga é de R$ 50,00\n"
          ]
        }
      ],
      "source": [
        "#3. Crie um programa que leia o peso de uma carga em números inteiros.\n",
        "#Se o peso for até 10 kg, informe que o valor será de R$ 50,00.\n",
        "#Entre 11 e 20 kg, informe que o valor será de R$ 80.\n",
        "# Se for maior que  20 informe que o transporte não é aceito. Teste vários pesos.\n",
        "\n",
        "peso = 10\n",
        "if peso <= 10:\n",
        "\tprint(\"Valor da carga é de R$ 50,00\")\n",
        "elif peso >= 11 and peso <=20:\n",
        "\tprint(\"Valor da carga é de R$ 80,00\")\n",
        "else:\n",
        "\tprint(\"O transporte não é aceito\")\n"
      ]
    },
    {
      "cell_type": "code",
      "source": [],
      "metadata": {
        "id": "2AKIuecrSBMo"
      },
      "execution_count": null,
      "outputs": []
    }
  ],
  "metadata": {
    "kernelspec": {
      "display_name": "Python 3",
      "language": "python",
      "name": "python3"
    },
    "language_info": {
      "codemirror_mode": {
        "name": "ipython",
        "version": 3
      },
      "file_extension": ".py",
      "mimetype": "text/x-python",
      "name": "python",
      "nbconvert_exporter": "python",
      "pygments_lexer": "ipython3",
      "version": "3.7.6"
    },
    "colab": {
      "provenance": [],
      "include_colab_link": true
    }
  },
  "nbformat": 4,
  "nbformat_minor": 0
}