{
  "cells": [
    {
      "cell_type": "markdown",
      "metadata": {
        "id": "view-in-github",
        "colab_type": "text"
      },
      "source": [
        "<a href=\"https://colab.research.google.com/github/VictorAlexandr/Formacao_Cientista_de_Dados_Udemy/blob/main/1_Variaveis_e_Objetos.ipynb\" target=\"_parent\"><img src=\"https://colab.research.google.com/assets/colab-badge.svg\" alt=\"Open In Colab\"/></a>"
      ]
    },
    {
      "cell_type": "markdown",
      "metadata": {
        "id": "qUGqOWohyIQb"
      },
      "source": [
        "# Formação Cientista de Dados - Prof. Fernando Amaral\n",
        "Variáveis e Objetos"
      ]
    },
    {
      "cell_type": "code",
      "execution_count": 1,
      "metadata": {
        "colab": {
          "base_uri": "https://localhost:8080/"
        },
        "id": "uNRXX7c4yIQg",
        "outputId": "32757e2b-7f86-4f2d-8de6-0cf97830405d"
      },
      "outputs": [
        {
          "output_type": "stream",
          "name": "stdout",
          "text": [
            "1\n",
            "3.13\n",
            "Python\n",
            "False\n"
          ]
        }
      ],
      "source": [
        "#Cria variável do tipo inteiro\n",
        "x = 1\n",
        "print(x)\n",
        "#Cria variável do tipo float\n",
        "y = 3.13\n",
        "print(y)\n",
        "#Cria variável do tipo string\n",
        "m = \"Python\"\n",
        "m = 'Python'\n",
        "print(m)\n",
        "#Cria variável do tipo lógica\n",
        "w = True\n",
        "y = False\n",
        "print(y)"
      ]
    },
    {
      "cell_type": "code",
      "execution_count": 2,
      "metadata": {
        "colab": {
          "base_uri": "https://localhost:8080/"
        },
        "id": "6KdJh8-tyIQi",
        "outputId": "7f7a7576-0713-4874-c9f9-42c3728c4dbf"
      },
      "outputs": [
        {
          "output_type": "stream",
          "name": "stdout",
          "text": [
            "30.0\n"
          ]
        }
      ],
      "source": [
        "#calculadora\n",
        "x = 10\n",
        "y = 20\n",
        "z = 100\n",
        "w = (x + y) * z / 100\n",
        "print(w)"
      ]
    },
    {
      "cell_type": "code",
      "execution_count": 3,
      "metadata": {
        "colab": {
          "base_uri": "https://localhost:8080/"
        },
        "id": "qoAueF9NyIQi",
        "outputId": "230a7ddb-1831-4451-f0c1-14c1d22d0334"
      },
      "outputs": [
        {
          "output_type": "stream",
          "name": "stdout",
          "text": [
            "Este texto será impresso no console\n",
            "10\n",
            "Texto e duas variáveis:  10 ,  100\n"
          ]
        }
      ],
      "source": [
        "#exibir texto no console\n",
        "print(\"Este texto será impresso no console\")\n",
        "print(x)\n",
        "print(\"Texto e duas variáveis: \", x ,\", \", z)"
      ]
    },
    {
      "cell_type": "code",
      "execution_count": 4,
      "metadata": {
        "colab": {
          "base_uri": "https://localhost:8080/"
        },
        "id": "6ZD_EpFkyIQj",
        "outputId": "124b959f-12ab-44e4-fdda-d36ad8f00403"
      },
      "outputs": [
        {
          "output_type": "stream",
          "name": "stdout",
          "text": [
            "<class 'int'>\n",
            "<class 'str'>\n"
          ]
        }
      ],
      "source": [
        "#verificar tipo\n",
        "print(type(x))\n",
        "print(type(m))"
      ]
    },
    {
      "cell_type": "code",
      "execution_count": 5,
      "metadata": {
        "colab": {
          "base_uri": "https://localhost:8080/"
        },
        "id": "dMoDPAXXyIQj",
        "outputId": "0c2f4271-6334-4769-8bc3-ad6d92b468aa"
      },
      "outputs": [
        {
          "output_type": "stream",
          "name": "stdout",
          "text": [
            "Informe o valor: \n",
            "\n",
            "<class 'str'>\n"
          ]
        }
      ],
      "source": [
        "#entrada de dados\n",
        "print(\"Informe o valor: \")\n",
        "i = input()\n",
        "#mostra tipo string\n",
        "print(type(i))"
      ]
    },
    {
      "cell_type": "code",
      "execution_count": 6,
      "metadata": {
        "colab": {
          "base_uri": "https://localhost:8080/"
        },
        "id": "BEBxZx09yIQj",
        "outputId": "b6050618-9d9c-4dc3-c6c3-310ff4667d37"
      },
      "outputs": [
        {
          "name": "stdout",
          "output_type": "stream",
          "text": [
            "Informe o valor: \n",
            "10\n",
            "Informe o valor: 20\n"
          ]
        }
      ],
      "source": [
        "#entrada de valor com msg separada e junto\n",
        "print(\"Informe o valor: \")\n",
        "i = input()\n",
        "# ou\n",
        "i = input(\"Informe o valor: \")"
      ]
    },
    {
      "cell_type": "code",
      "execution_count": 7,
      "metadata": {
        "colab": {
          "base_uri": "https://localhost:8080/"
        },
        "id": "pPT78sA2yIQj",
        "outputId": "74119a91-9af4-4951-a669-00c9aa60459d"
      },
      "outputs": [
        {
          "output_type": "stream",
          "name": "stdout",
          "text": [
            "Informe o valor: 20\n",
            "<class 'str'>\n",
            "<class 'int'>\n"
          ]
        }
      ],
      "source": [
        "#conversão de valores\n",
        "#para inteiro\n",
        "var = input(\"Informe o valor: \")\n",
        "print(type(var))\n",
        "var = int(var)\n",
        "print(type(var))"
      ]
    },
    {
      "cell_type": "code",
      "execution_count": 8,
      "metadata": {
        "colab": {
          "base_uri": "https://localhost:8080/"
        },
        "id": "pn_Q91bbyIQk",
        "outputId": "87337f1a-6c1c-46d9-8e36-344995b5a58c"
      },
      "outputs": [
        {
          "output_type": "stream",
          "name": "stdout",
          "text": [
            "Informe o valor: 10\n",
            "<class 'str'>\n",
            "<class 'float'>\n"
          ]
        }
      ],
      "source": [
        "#para float\n",
        "var = input(\"Informe o valor: \")\n",
        "print(type(var))\n",
        "var = float(var)\n",
        "print(type(var))"
      ]
    },
    {
      "cell_type": "code",
      "execution_count": 9,
      "metadata": {
        "id": "inUqnR7myIQk"
      },
      "outputs": [],
      "source": [
        "# Este texto é um comentário\n",
        "X = 10  # a partir daqui é um comentário"
      ]
    },
    {
      "cell_type": "code",
      "execution_count": 9,
      "metadata": {
        "id": "IppsBlPZyIQk"
      },
      "outputs": [],
      "source": []
    }
  ],
  "metadata": {
    "kernelspec": {
      "display_name": "Python 3",
      "language": "python",
      "name": "python3"
    },
    "language_info": {
      "codemirror_mode": {
        "name": "ipython",
        "version": 3
      },
      "file_extension": ".py",
      "mimetype": "text/x-python",
      "name": "python",
      "nbconvert_exporter": "python",
      "pygments_lexer": "ipython3",
      "version": "3.7.6"
    },
    "colab": {
      "provenance": [],
      "include_colab_link": true
    }
  },
  "nbformat": 4,
  "nbformat_minor": 0
}